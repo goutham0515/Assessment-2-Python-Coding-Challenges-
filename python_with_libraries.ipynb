{
  "cells": [
    {
      "cell_type": "markdown",
      "metadata": {
        "id": "PsolKkPACMPn"
      },
      "source": [
        "<a href=\"https://www.viharatech.com\"><img src=\"https://miro.medium.com/v2/resize:fit:828/format:webp/1*on2Bpj6A5gfd-CzaFOAZRA.jpeg\"></a>\n",
        "\n",
        "\n",
        "- `Welcome to our interactive learning session! In this Jupyter notebook, you'll find a series of questions related to Python Concept. To maximize your learning, please write Python code in the cell below each question and execute it. This hands-on practice will help reinforce your understanding of the concepts. Feel free to reach out if you have any questions or need assistance. Happy coding! 💻🐍 `"
      ]
    },
    {
      "cell_type": "markdown",
      "metadata": {
        "id": "lfoRuR-lCMPs"
      },
      "source": [
        "Q:1\n",
        "\n",
        "Which of these about a set is not true?\n",
        "\n",
        "a) Mutable data type\n",
        "b) Allows duplicate values\n",
        "c) Data type with unordered values\n",
        "d) Immutable data type"
      ]
    },
    {
      "cell_type": "markdown",
      "source": [
        "  b) Allows duplicate values\n",
        "  \n",
        "  c) immutable data type"
      ],
      "metadata": {
        "id": "EAFlod-dC76y"
      }
    },
    {
      "cell_type": "markdown",
      "metadata": {
        "id": "OqBU_dAlCMPx"
      },
      "source": [
        "Q : 2\n",
        "\n",
        "Create a null vector(list) of size 10 but the fifth value which is 1 ?"
      ]
    },
    {
      "cell_type": "code",
      "execution_count": null,
      "metadata": {
        "id": "gRrI_FrBCMPy",
        "colab": {
          "base_uri": "https://localhost:8080/"
        },
        "outputId": "bcbb14d0-8b5b-4e1a-88f2-b9264a2eb529"
      },
      "outputs": [
        {
          "output_type": "execute_result",
          "data": {
            "text/plain": [
              "array([0, 0, 0, 0, 1, 0, 0, 0, 0, 0])"
            ]
          },
          "metadata": {},
          "execution_count": 2
        }
      ],
      "source": [
        "import numpy as np\n",
        "vector = np.zeros(10,dtype=np.int64)\n",
        "vector[4] = 1\n",
        "vector\n",
        "\n"
      ]
    },
    {
      "cell_type": "markdown",
      "metadata": {
        "id": "RlTsTOCsCMPy"
      },
      "source": [
        "Q : 3\n",
        "\n",
        "Create a vector(list) with values ranging from 10 to 49 ?"
      ]
    },
    {
      "cell_type": "code",
      "execution_count": null,
      "metadata": {
        "id": "LMOZydWTCMP0",
        "colab": {
          "base_uri": "https://localhost:8080/"
        },
        "outputId": "7d00a7f4-9655-48b6-d566-46e74fe5e488"
      },
      "outputs": [
        {
          "output_type": "execute_result",
          "data": {
            "text/plain": [
              "array([10, 11, 12, 13, 14, 15, 16, 17, 18, 19, 20, 21, 22, 23, 24, 25, 26,\n",
              "       27, 28, 29, 30, 31, 32, 33, 34, 35, 36, 37, 38, 39, 40, 41, 42, 43,\n",
              "       44, 45, 46, 47, 48, 49])"
            ]
          },
          "metadata": {},
          "execution_count": 20
        }
      ],
      "source": [
        "vector = np.arange(10,50)\n",
        "vector"
      ]
    },
    {
      "cell_type": "markdown",
      "metadata": {
        "id": "9dj_rm8xCMP3"
      },
      "source": [
        "Q : 4\n",
        "    \n",
        "Reverse a vector(list)  (first element becomes last) ?"
      ]
    },
    {
      "cell_type": "code",
      "execution_count": null,
      "metadata": {
        "id": "DwI_o92YCMP4",
        "colab": {
          "base_uri": "https://localhost:8080/"
        },
        "outputId": "01c8bce2-3fa1-4782-85c4-56de1cb043f0"
      },
      "outputs": [
        {
          "output_type": "execute_result",
          "data": {
            "text/plain": [
              "array([5, 4, 3, 2, 1])"
            ]
          },
          "metadata": {},
          "execution_count": 27
        }
      ],
      "source": [
        "vector = np.array([1,2,3,4,5])\n",
        "reverse_vector = vector[::-1]\n",
        "reverse_vector"
      ]
    },
    {
      "cell_type": "markdown",
      "metadata": {
        "id": "OqT6lGT9CMP5"
      },
      "source": [
        "Q : 5\n",
        "    \n",
        "Create a 3x3 matrix with values ranging from 0 to 8  ?   "
      ]
    },
    {
      "cell_type": "code",
      "execution_count": null,
      "metadata": {
        "id": "ZNzcsTzICMP6",
        "colab": {
          "base_uri": "https://localhost:8080/"
        },
        "outputId": "5071dd16-4911-4500-e1fd-f78a09c4c79d"
      },
      "outputs": [
        {
          "output_type": "execute_result",
          "data": {
            "text/plain": [
              "array([[[0, 1, 2],\n",
              "        [3, 4, 5],\n",
              "        [6, 7, 8]]])"
            ]
          },
          "metadata": {},
          "execution_count": 11
        }
      ],
      "source": [
        "matrix = np.arange(0,9).reshape(1,3,3)\n",
        "matrix"
      ]
    },
    {
      "cell_type": "markdown",
      "metadata": {
        "id": "aYRXx3VVCMP6"
      },
      "source": [
        "Q : 6\n",
        "\n",
        "Create a 10x10 array with random values and find the minimum and maximum values ?"
      ]
    },
    {
      "cell_type": "code",
      "execution_count": null,
      "metadata": {
        "id": "6Jx1VkpuCMP7",
        "colab": {
          "base_uri": "https://localhost:8080/"
        },
        "outputId": "7996f3bb-efea-42d7-8b5d-30e58e19bcc8"
      },
      "outputs": [
        {
          "output_type": "stream",
          "name": "stdout",
          "text": [
            "max_values - 0.9945476032223406\n",
            "min_values - 0.008726111528208791\n"
          ]
        }
      ],
      "source": [
        "values = np.random.rand(10,10)\n",
        "max_values = np.max(values)\n",
        "min_values = np.min(values)\n",
        "print(f'max_values - {max_values}')\n",
        "print(f'min_values - {min_values}')"
      ]
    },
    {
      "cell_type": "code",
      "source": [
        "values = np.random.randint(0,101,(10,10))\n",
        "max_value = values[0][0]\n",
        "min_value = values[0][0]\n",
        "\n",
        "for i in range(10):\n",
        "  for j in range(10):\n",
        "    if values[i][j] < min_value:\n",
        "      min_value = values[i][j]\n",
        "    if values[i][j] > max_value:\n",
        "      max_value = values[i][j]\n",
        "print(values)\n",
        "print(f'min_value-->{min_value}')\n",
        "print(f'max_value-->{max_value}')"
      ],
      "metadata": {
        "colab": {
          "base_uri": "https://localhost:8080/"
        },
        "id": "pWu46H7ike6b",
        "outputId": "20643693-7054-4c4c-8c89-95d1ab918ce6"
      },
      "execution_count": null,
      "outputs": [
        {
          "output_type": "stream",
          "name": "stdout",
          "text": [
            "[[63 46 31 35 18 56 53 38 61 70]\n",
            " [97 95 72 77 78 77 96  8 46 97]\n",
            " [22 63 99 67 60 60 21 89  6 41]\n",
            " [10 88 80 50 70 44 36 98 26 17]\n",
            " [90 88 90 58  3 34 95 90 40 65]\n",
            " [46  7 59 12 37 82 11 52 53 57]\n",
            " [87 75  0  6 30 67 14  1 41 87]\n",
            " [ 9 74 80 97 90 53 57 92 21 55]\n",
            " [73 19 70 61 76 35 84 43 54 86]\n",
            " [75 42 13 98 86 84 96 36 39 97]]\n",
            "min_value-->0\n",
            "max_value-->99\n"
          ]
        }
      ]
    },
    {
      "cell_type": "markdown",
      "metadata": {
        "id": "vpx6uf-qCMP8"
      },
      "source": [
        "Q : 7\n",
        "\n",
        "Reverse the complete string\n",
        "----------------------------\n",
        "\n",
        "a = \"i.love.programming.language.\"\n",
        "\n",
        "sample output = language programming love i\n"
      ]
    },
    {
      "cell_type": "code",
      "execution_count": null,
      "metadata": {
        "id": "Cl9gnXTKCMP8",
        "colab": {
          "base_uri": "https://localhost:8080/",
          "height": 36
        },
        "outputId": "7dd503ba-d787-4b05-baf5-528199545e09"
      },
      "outputs": [
        {
          "output_type": "execute_result",
          "data": {
            "text/plain": [
              "' language programming love i'"
            ],
            "application/vnd.google.colaboratory.intrinsic+json": {
              "type": "string"
            }
          },
          "metadata": {},
          "execution_count": 52
        }
      ],
      "source": [
        "a = \"i.love.programming.language.\"\n",
        "a = a.split('.')\n",
        "' '.join(a[::-1])"
      ]
    },
    {
      "cell_type": "markdown",
      "metadata": {
        "id": "3L199nCHCMP9"
      },
      "source": [
        "Q : 8\n",
        "\n",
        "task = create an Data Frame that consist values in 6 * 6 manner : index values are ind and columns values are col\n",
        "\n",
        "\n",
        "ind=['row 1', 'row 2','row 3', 'row 4','row 5', 'row 6']\n",
        "\n",
        "col=['col 1', 'col 2','col 3', 'col 4', 'col 5', 'col 6']\n",
        "\n",
        "\n"
      ]
    },
    {
      "cell_type": "code",
      "source": [
        "import pandas as pd\n",
        "\n",
        "ind = ['row 1', 'row 2', 'row 3', 'row 4', 'row 5', 'row 6']\n",
        "col = ['col 1', 'col 2', 'col 3', 'col 4', 'col 5', 'col 6']\n",
        "df = pd.DataFrame(0, index=ind, columns=col)\n",
        "print(df)"
      ],
      "metadata": {
        "colab": {
          "base_uri": "https://localhost:8080/"
        },
        "id": "A50TwjJKQMSm",
        "outputId": "9e382ea2-b6c4-4b8d-978b-06223911adb6"
      },
      "execution_count": null,
      "outputs": [
        {
          "output_type": "stream",
          "name": "stdout",
          "text": [
            "       col 1  col 2  col 3  col 4  col 5  col 6\n",
            "row 1      0      0      0      0      0      0\n",
            "row 2      0      0      0      0      0      0\n",
            "row 3      0      0      0      0      0      0\n",
            "row 4      0      0      0      0      0      0\n",
            "row 5      0      0      0      0      0      0\n",
            "row 6      0      0      0      0      0      0\n"
          ]
        }
      ]
    },
    {
      "cell_type": "markdown",
      "metadata": {
        "id": "_x7Z8HcwCMQB"
      },
      "source": [
        "Q : 9\n",
        "\n",
        "Task : Write a Python program to create a function that takes one argument, and that argument will be multiplied with an unknown given number.\n",
        "\n",
        "\n",
        "Sample Output =  15  \n",
        "\n",
        "Double the number of 15 = 30\n",
        "\n",
        "Triple the number of 15 = 45\n",
        "\n",
        "Quadruple the number of 15 = 60\n",
        "\n",
        "Quintuple the number 15 = 75"
      ]
    },
    {
      "cell_type": "code",
      "source": [
        "def multiply_number(n):\n",
        "    print(f\"Double the number of {n} = {n * 2}\")\n",
        "    print(f\"Triple the number of {n} = {n * 3}\")\n",
        "    print(f\"Quadruple the number of {n} = {n * 4}\")\n",
        "    print(f\"Quintuple the number of {n} = {n * 5}\")\n",
        "\n",
        "num = 15\n",
        "multiply_number(num)"
      ],
      "metadata": {
        "colab": {
          "base_uri": "https://localhost:8080/"
        },
        "id": "Zv2BRC9ts1AQ",
        "outputId": "f0db517f-12cd-43bf-a114-bd22c6cb3f5b"
      },
      "execution_count": null,
      "outputs": [
        {
          "output_type": "stream",
          "name": "stdout",
          "text": [
            "Double the number of 15 = 30\n",
            "Triple the number of 15 = 45\n",
            "Quadruple the number of 15 = 60\n",
            "Quintuple the number of 15 = 75\n"
          ]
        }
      ]
    },
    {
      "cell_type": "markdown",
      "metadata": {
        "id": "4ENhuog6CMQD"
      },
      "source": [
        "Q : 10\n",
        "\n",
        "Task : Write a Python program to find if a given string starts with a given character using Lambda.\n",
        "\n",
        "Sample Output:\n",
        "True\n",
        "False"
      ]
    },
    {
      "cell_type": "code",
      "execution_count": null,
      "metadata": {
        "id": "Xe-8oksHCMQE",
        "colab": {
          "base_uri": "https://localhost:8080/"
        },
        "outputId": "35e37808-85c6-48ae-e5bf-1395e1af5fc1"
      },
      "outputs": [
        {
          "output_type": "stream",
          "name": "stdout",
          "text": [
            "hello: h\n",
            "h: true\n",
            "False\n"
          ]
        }
      ],
      "source": [
        "starts_with = lambda string, char: string.startswith(char)\n",
        "\n",
        "\n",
        "string = input(\"hello: \")\n",
        "char = input(\"h: \")\n",
        "\n",
        "\n",
        "print(starts_with(string, char))"
      ]
    },
    {
      "cell_type": "markdown",
      "metadata": {
        "id": "kBcMl8lMCMQF"
      },
      "source": [
        "\\Q : 11\n",
        "\n",
        "Task : Swap two Numbers without using 3rd variables\n",
        "\n"
      ]
    },
    {
      "cell_type": "code",
      "execution_count": null,
      "metadata": {
        "id": "aKhk8kiaCMQF",
        "colab": {
          "base_uri": "https://localhost:8080/"
        },
        "outputId": "9d326a86-ce6f-4124-e2a5-9a7d104a6cd5"
      },
      "outputs": [
        {
          "output_type": "stream",
          "name": "stdout",
          "text": [
            "Before swapping: a = 5, b = 10\n",
            "After swapping: a = 10, b = 5\n"
          ]
        }
      ],
      "source": [
        "a = 5\n",
        "b = 10\n",
        "\n",
        "print(f\"Before swapping: a = {a}, b = {b}\")\n",
        "\n",
        "for i in range(1):\n",
        "    a = a + b\n",
        "    b = a - b\n",
        "    a = a - b\n",
        "\n",
        "print(f\"After swapping: a = {a}, b = {b}\")"
      ]
    },
    {
      "cell_type": "markdown",
      "metadata": {
        "id": "lSTMasBkCMQG"
      },
      "source": [
        "Q : 12\n",
        "\n",
        "Task : Find whether the given number is palindrome or Not\n"
      ]
    },
    {
      "cell_type": "code",
      "execution_count": null,
      "metadata": {
        "id": "awuyfJ4BCMQH",
        "colab": {
          "base_uri": "https://localhost:8080/"
        },
        "outputId": "09a6aed6-630f-4ef5-addb-83e4044932f2"
      },
      "outputs": [
        {
          "output_type": "stream",
          "name": "stdout",
          "text": [
            "enter a number 121\n",
            "121 is a palindram\n"
          ]
        }
      ],
      "source": [
        "n = int(input('enter a number '))\n",
        "temp = n\n",
        "p = 0\n",
        "while n > 0:\n",
        "  rec = n % 10\n",
        "  p = (p*10) + rec\n",
        "  n = n // 10\n",
        "if temp == p:\n",
        "  print(f'{temp} is a palindram')\n",
        "else:\n",
        "  print(f'{temp} is not a palindram')\n",
        "\n"
      ]
    },
    {
      "cell_type": "markdown",
      "metadata": {
        "id": "WdRgmIMQCMQH"
      },
      "source": [
        "Q : 13\n",
        "\n",
        "Task : Write a Python Programme to find whether a given number is Prime number or not\n"
      ]
    },
    {
      "cell_type": "code",
      "execution_count": null,
      "metadata": {
        "id": "lkunuvUACMQI",
        "colab": {
          "base_uri": "https://localhost:8080/"
        },
        "outputId": "b982214c-35f5-4fab-a2a1-a581276b89ff"
      },
      "outputs": [
        {
          "output_type": "stream",
          "name": "stdout",
          "text": [
            "enter a number 3\n",
            "3 is a prime num\n"
          ]
        }
      ],
      "source": [
        "n = int(input('enter a number '))\n",
        "count = 0\n",
        "for i in range(1,n+1):\n",
        "  if n % i == 0:\n",
        "    count = count + 1\n",
        "  if count == 2:\n",
        "    print(f'{n} is a prime num' )\n",
        "\n",
        "\n",
        "\n",
        "\n"
      ]
    },
    {
      "cell_type": "markdown",
      "metadata": {
        "id": "jqNjfciPCMQI"
      },
      "source": [
        "Q : 14\n",
        "\n",
        "Task : Write a Python Programme to calculate the number of Digits and Letters in a string"
      ]
    },
    {
      "cell_type": "code",
      "execution_count": null,
      "metadata": {
        "id": "_rLhinsLCMQK",
        "colab": {
          "base_uri": "https://localhost:8080/"
        },
        "outputId": "ec290892-0943-4847-bb20-fd167a25cda8"
      },
      "outputs": [
        {
          "output_type": "stream",
          "name": "stdout",
          "text": [
            "6 num of letters\n",
            "4 num if digits\n"
          ]
        }
      ],
      "source": [
        "a = 'python1234'\n",
        "\n",
        "letter_count = 0\n",
        "digit_count = 0\n",
        "\n",
        "for char in a:\n",
        "  if char.isalpha():\n",
        "    letter_count += 1\n",
        "  elif char.isdigit():\n",
        "    digit_count += 1\n",
        "\n",
        "print(f'{letter_count} num of letters')\n",
        "print(f'{digit_count} num if digits')"
      ]
    },
    {
      "cell_type": "markdown",
      "metadata": {
        "id": "F_exltyNCMQK"
      },
      "source": [
        "Q : 15\n",
        "\n",
        "Task :  write a python programme to prove whether the given number is perfect number or not  "
      ]
    },
    {
      "cell_type": "code",
      "execution_count": null,
      "metadata": {
        "id": "YDV8pDfYCMQL",
        "colab": {
          "base_uri": "https://localhost:8080/"
        },
        "outputId": "290c1c87-8406-4e24-c9f0-6c0e0f87e87d"
      },
      "outputs": [
        {
          "output_type": "stream",
          "name": "stdout",
          "text": [
            "enter a number 6\n",
            "6 is not perfect\n"
          ]
        }
      ],
      "source": [
        "n = int(input('enter a number '))\n",
        "c = 0\n",
        "for i in range(1,n+1):\n",
        "  if n % i == 0:\n",
        "    c = c + i\n",
        "if n == c:\n",
        "  print(f'{n} is perfect')\n",
        "else:\n",
        "  print(f'{n} is not perfect')"
      ]
    },
    {
      "cell_type": "markdown",
      "metadata": {
        "id": "0ReaL6lDCMQM"
      },
      "source": [
        "Q : 16\n",
        "\n",
        "Task: write a python programme to prove whether the given number is Amstrong number or not"
      ]
    },
    {
      "cell_type": "code",
      "execution_count": null,
      "metadata": {
        "id": "b_mcbCKWCMQM",
        "colab": {
          "base_uri": "https://localhost:8080/"
        },
        "outputId": "80b366f5-ea96-42e9-c61c-574c8cf660c3"
      },
      "outputs": [
        {
          "output_type": "stream",
          "name": "stdout",
          "text": [
            "153 is not amstrong\n"
          ]
        }
      ],
      "source": [
        "n = 153\n",
        "temp = n\n",
        "a = 0\n",
        "while n > 0:\n",
        "  rec = n % 10\n",
        "  a = a + (rec*rec*rec)\n",
        "  n = n // 10\n",
        "if temp == c:\n",
        "  print(f'{temp} is amstrong')\n",
        "else:\n",
        "  print(f'{temp} is not amstrong')\n"
      ]
    },
    {
      "cell_type": "markdown",
      "metadata": {
        "id": "DlrrhjrrCMQN"
      },
      "source": [
        "Q : 17\n",
        "\n",
        "Task :\n",
        "\n",
        "Given an array of Integers , find the sum of its elements\n"
      ]
    },
    {
      "cell_type": "code",
      "execution_count": null,
      "metadata": {
        "id": "MZnxpcMPCMQN",
        "colab": {
          "base_uri": "https://localhost:8080/"
        },
        "outputId": "5abd4bdc-4043-4712-b39e-1dcda1aa67a9"
      },
      "outputs": [
        {
          "output_type": "execute_result",
          "data": {
            "text/plain": [
              "15"
            ]
          },
          "metadata": {},
          "execution_count": 105
        }
      ],
      "source": [
        "import numpy as np\n",
        "a = np.array([1,2,3,4,5]).sum()\n",
        "a"
      ]
    },
    {
      "cell_type": "code",
      "source": [
        "a = np.array([1,2,3,4,5])\n",
        "b = 0\n",
        "for i in a:\n",
        "  b += i\n",
        "print(b)\n"
      ],
      "metadata": {
        "colab": {
          "base_uri": "https://localhost:8080/"
        },
        "id": "mXoU31k1aj9V",
        "outputId": "870da263-f438-42e9-b6ac-a7961b15bf9e"
      },
      "execution_count": null,
      "outputs": [
        {
          "output_type": "stream",
          "name": "stdout",
          "text": [
            "15\n"
          ]
        }
      ]
    },
    {
      "cell_type": "markdown",
      "metadata": {
        "id": "xGjMb0KlCMQN"
      },
      "source": [
        "Q : 18\n",
        "\n",
        "Task :\n",
        "\n",
        "Write a Python Programme to find the values Divisible by 5 and 3 from 15 to 50"
      ]
    },
    {
      "cell_type": "code",
      "execution_count": null,
      "metadata": {
        "id": "22CzrlvmCMQO",
        "colab": {
          "base_uri": "https://localhost:8080/"
        },
        "outputId": "8be763c0-31ae-4597-8740-a90c0fefb2bd"
      },
      "outputs": [
        {
          "output_type": "stream",
          "name": "stdout",
          "text": [
            "[15, 30, 45]\n"
          ]
        }
      ],
      "source": [
        "a = []\n",
        "for i in range(15,51):\n",
        "  if i % 5 == 0:\n",
        "    if i % 3 == 0:\n",
        "     a.append(i)\n",
        "print(a)\n"
      ]
    },
    {
      "cell_type": "markdown",
      "metadata": {
        "id": "MmhSIydBCMQO"
      },
      "source": [
        "Q : 19\n",
        "\n",
        "Task :\n",
        "\n",
        "Print 2 Table from 2 * 1 = 2 till 2 * 10 = 20"
      ]
    },
    {
      "cell_type": "code",
      "execution_count": null,
      "metadata": {
        "id": "6oTCxd7zCMQQ",
        "colab": {
          "base_uri": "https://localhost:8080/"
        },
        "outputId": "cb0ae196-828b-4927-d23d-4fd630b31841"
      },
      "outputs": [
        {
          "output_type": "stream",
          "name": "stdout",
          "text": [
            "2 * 1 = 2\n",
            "2 * 2 = 4\n",
            "2 * 3 = 6\n",
            "2 * 4 = 8\n",
            "2 * 5 = 10\n",
            "2 * 6 = 12\n",
            "2 * 7 = 14\n",
            "2 * 8 = 16\n",
            "2 * 9 = 18\n",
            "2 * 10 = 20\n"
          ]
        }
      ],
      "source": [
        "a = 2\n",
        "for i in range(1,11):\n",
        "  print(f'{a} * {i} = {i*a}')"
      ]
    },
    {
      "cell_type": "markdown",
      "metadata": {
        "id": "TVZvJSKJCMQu"
      },
      "source": [
        "Q : 20\n",
        "\n",
        "Task :\n",
        "\n",
        "print all values from 1 to 101 and skip an element 56 from the list"
      ]
    },
    {
      "cell_type": "code",
      "execution_count": null,
      "metadata": {
        "id": "P5tXsBq1CMQv",
        "colab": {
          "base_uri": "https://localhost:8080/"
        },
        "outputId": "5165f1f4-5040-451f-e099-90bbb520bef6"
      },
      "outputs": [
        {
          "output_type": "stream",
          "name": "stdout",
          "text": [
            "[1, 2, 3, 4, 5, 6, 7, 8, 9, 10, 11, 12, 13, 14, 15, 16, 17, 18, 19, 20, 21, 22, 23, 24, 25, 26, 27, 28, 29, 30, 31, 32, 33, 34, 35, 36, 37, 38, 39, 40, 41, 42, 43, 44, 45, 46, 47, 48, 49, 50, 51, 52, 53, 54, 55, 57, 58, 59, 60, 61, 62, 63, 64, 65, 66, 67, 68, 69, 70, 71, 72, 73, 74, 75, 76, 77, 78, 79, 80, 81, 82, 83, 84, 85, 86, 87, 88, 89, 90, 91, 92, 93, 94, 95, 96, 97, 98, 99, 100, 101]\n"
          ]
        }
      ],
      "source": [
        "\n",
        "a = []\n",
        "for i in range(1,102):\n",
        "  if i == 56:\n",
        "    continue\n",
        "  a.append(i)\n",
        "print(a)\n",
        "\n"
      ]
    },
    {
      "cell_type": "markdown",
      "metadata": {
        "id": "mtE0VfOkCMQw"
      },
      "source": [
        "Q : 21\n",
        "\n",
        "\n",
        "Task :\n",
        "\n",
        "Given an integer  n , perform the following conditional actions:\n",
        "\n",
        "If n is odd, print Weird\n",
        "If n is even and in the inclusive range of 2 to 5 , print Not Weird\n",
        "If n is even and in the inclusive range of 6 to 20 , print Weird\n",
        "If n is even and greater than 20 , print Not Weird\n",
        "\n",
        "\n",
        "\n",
        "Input Format\n",
        "-----------------\n",
        "A single line containing a positive integer, n.\n",
        "\n",
        "Constraints\n",
        "-------------\n",
        "\n",
        "1<=n<=100\n",
        "\n",
        "Output Format\n",
        "----------------\n",
        "\n",
        "Print Weird if the number is weird. Otherwise, print Not Weird.\n",
        "\n",
        "Sample Input 0\n",
        "----------------\n",
        "\n",
        "3\n",
        "\n",
        "Sample Output 0\n",
        "-----------------\n",
        "\n",
        "Weird\n",
        "\n",
        "\n",
        "Explanation 0\n",
        "---------------------\n",
        "\n",
        "n=3  is odd and odd numbers are weird, so print Weird.\n",
        "\n",
        "Sample Input 1\n",
        "-------------------------\n",
        "24\n",
        "\n",
        "Sample Output 1\n",
        "-------------------------\n",
        "\n",
        "Not Weird\n",
        "\n",
        "\n",
        "Explanation 1\n",
        "---------------------------\n",
        "\n",
        "n > 20  and n  is even, so it is not weird.\n"
      ]
    },
    {
      "cell_type": "markdown",
      "source": [
        "**Given an integer n , perform the following conditional actions:\n",
        "\n",
        "**If n is odd, print Weird If n is even and in the inclusive range of 2 to 5 , print Not Weird If n is even and in the inclusive range of 6 to 20 , print Weird If n is even and greater than 20 , print Not Weird"
      ],
      "metadata": {
        "id": "P_dd7Uzaw6eJ"
      }
    },
    {
      "cell_type": "code",
      "source": [
        "n = int(input(\"Enter an integer: \"))\n",
        "\n",
        "for i in [n]:\n",
        "    if n % 2 == 1:\n",
        "        print(\"Weird\")\n",
        "    elif 2 <= n <= 5:\n",
        "        print(\"Not Weird\")\n",
        "    elif 6 <= n <= 20:\n",
        "        print(\"Weird\")\n",
        "    else:\n",
        "        print(\"Not Weird\")\n"
      ],
      "metadata": {
        "colab": {
          "base_uri": "https://localhost:8080/"
        },
        "id": "iN0jY889w_DZ",
        "outputId": "e481f582-8fad-471e-e7a2-9c3d9bac1acd"
      },
      "execution_count": null,
      "outputs": [
        {
          "output_type": "stream",
          "name": "stdout",
          "text": [
            "Enter an integer: 6\n",
            "Weird\n"
          ]
        }
      ]
    },
    {
      "cell_type": "code",
      "source": [],
      "metadata": {
        "id": "gXFI51KR0aCp"
      },
      "execution_count": null,
      "outputs": []
    }
  ],
  "metadata": {
    "kernelspec": {
      "display_name": "Python 3 (ipykernel)",
      "language": "python",
      "name": "python3"
    },
    "language_info": {
      "codemirror_mode": {
        "name": "ipython",
        "version": 3
      },
      "file_extension": ".py",
      "mimetype": "text/x-python",
      "name": "python",
      "nbconvert_exporter": "python",
      "pygments_lexer": "ipython3",
      "version": "3.11.5"
    },
    "colab": {
      "provenance": []
    }
  },
  "nbformat": 4,
  "nbformat_minor": 0
}