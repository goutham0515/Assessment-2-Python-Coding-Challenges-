{
  "cells": [
    {
      "cell_type": "markdown",
      "id": "44f888cb",
      "metadata": {
        "id": "44f888cb"
      },
      "source": [
        "<a href=\"https://www.viharatech.com\"><img src=\"https://miro.medium.com/v2/resize:fit:828/format:webp/1*on2Bpj6A5gfd-CzaFOAZRA.jpeg\"></a>\n",
        "\n",
        "\n",
        "- `Welcome to our interactive learning session! In this Jupyter notebook, you'll find a series of questions related to Python Concept. To maximize your learning, please write Python code in the cell below each question and execute it. This hands-on practice will help reinforce your understanding of the concepts. Feel free to reach out if you have any questions or need assistance. Happy coding! 💻🐍 `"
      ]
    },
    {
      "cell_type": "raw",
      "id": "144f8dd9",
      "metadata": {
        "id": "144f8dd9"
      },
      "source": [
        "1 . Print the input text without vowels\n",
        "\n",
        "input = 'hai'\n",
        "\n",
        "Expected output = h"
      ]
    },
    {
      "cell_type": "code",
      "execution_count": null,
      "id": "cf1f9ca7",
      "metadata": {
        "colab": {
          "base_uri": "https://localhost:8080/"
        },
        "id": "cf1f9ca7",
        "outputId": "aad8b82f-bdea-4f50-ed4e-1eeb1044e366"
      },
      "outputs": [
        {
          "name": "stdout",
          "output_type": "stream",
          "text": [
            "h\n"
          ]
        }
      ],
      "source": [
        "input = 'hai'\n",
        "a = 'aeiouAEIOU'\n",
        "b = ''\n",
        "for i in input:\n",
        "  if i not in a:\n",
        "    b += i\n",
        "    print(b)\n",
        "\n"
      ]
    },
    {
      "cell_type": "raw",
      "id": "9f0cbac6",
      "metadata": {
        "id": "9f0cbac6"
      },
      "source": [
        "2 . Print only vowels from the text\n",
        "\n",
        "input = data\n",
        "\n",
        "Expected output = dt"
      ]
    },
    {
      "cell_type": "code",
      "execution_count": null,
      "id": "a6c81c61",
      "metadata": {
        "colab": {
          "base_uri": "https://localhost:8080/"
        },
        "id": "a6c81c61",
        "outputId": "05243ec2-d1b2-4fd0-868e-2cbff05a6961"
      },
      "outputs": [
        {
          "name": "stdout",
          "output_type": "stream",
          "text": [
            "aa"
          ]
        }
      ],
      "source": [
        "input = 'data'\n",
        "a = 'aeiouAEIOU'\n",
        "for char in input:\n",
        "  if char in a:\n",
        "    print(char,end = '')"
      ]
    },
    {
      "cell_type": "raw",
      "id": "6cbfe6e1",
      "metadata": {
        "id": "6cbfe6e1"
      },
      "source": [
        "3 . print each valu from the list with its index\n",
        "\n",
        "\n",
        "input = [10,11,50,34]\n",
        "\n",
        "Expected output = [100 , 111 , 502 , 343]"
      ]
    },
    {
      "cell_type": "code",
      "execution_count": null,
      "id": "d92cb8a3",
      "metadata": {
        "colab": {
          "base_uri": "https://localhost:8080/"
        },
        "id": "d92cb8a3",
        "outputId": "d715eaae-2069-4a51-b3fe-719d2f5f8c21"
      },
      "outputs": [
        {
          "name": "stdout",
          "output_type": "stream",
          "text": [
            "[100, 111, 502, 343]\n"
          ]
        }
      ],
      "source": [
        "input = [10,11,50,34]\n",
        "output = []\n",
        "index = 0\n",
        "for i in input:\n",
        "  output.append(int(str(i)+str(index)))\n",
        "  index += 1\n",
        "print(output)"
      ]
    },
    {
      "cell_type": "raw",
      "id": "de670ddc",
      "metadata": {
        "id": "de670ddc"
      },
      "source": [
        "4 . This is a Python Program to print all integers that aren’t divisible by either 2 or 3 and lies between 1 and 50."
      ]
    },
    {
      "cell_type": "code",
      "execution_count": null,
      "id": "bf365d80",
      "metadata": {
        "colab": {
          "base_uri": "https://localhost:8080/"
        },
        "id": "bf365d80",
        "outputId": "4b7e6a29-e4f8-43e4-dcb9-035aad802bbc"
      },
      "outputs": [
        {
          "name": "stdout",
          "output_type": "stream",
          "text": [
            "1 5 7 11 13 17 19 23 25 29 31 35 37 41 43 47 49 "
          ]
        }
      ],
      "source": [
        "\n",
        "\n",
        "for i in range(1,51):\n",
        "  if i % 2 != 0:\n",
        "    if i % 3 !=0:\n",
        "     print(i,end = ' ')"
      ]
    },
    {
      "cell_type": "raw",
      "id": "9f9b54af",
      "metadata": {
        "id": "9f9b54af"
      },
      "source": [
        "5 . The program takes in an integer and prints the smallest divisor of the integer."
      ]
    },
    {
      "cell_type": "code",
      "execution_count": null,
      "id": "087e8e4b",
      "metadata": {
        "id": "087e8e4b",
        "colab": {
          "base_uri": "https://localhost:8080/"
        },
        "outputId": "b49db01a-142d-42f5-be21-b4879f569a03"
      },
      "outputs": [
        {
          "output_type": "stream",
          "name": "stdout",
          "text": [
            "Enter an integer: 4\n",
            "Smallest divisor: 2\n"
          ]
        }
      ],
      "source": [
        "num = int(input(\"Enter an integer: \"))\n",
        "\n",
        "for i in range(2, num + 1):\n",
        "    if num % i == 0:\n",
        "        print(\"Smallest divisor:\", i)\n",
        "        break"
      ]
    },
    {
      "cell_type": "raw",
      "id": "fe7c7e96",
      "metadata": {
        "id": "fe7c7e96"
      },
      "source": [
        "6 . Write a Python program to check if it is a strong number or not ."
      ]
    },
    {
      "cell_type": "code",
      "execution_count": null,
      "id": "746703b2",
      "metadata": {
        "colab": {
          "base_uri": "https://localhost:8080/"
        },
        "id": "746703b2",
        "outputId": "f83067a9-53c0-4c64-b262-2df47c92373b"
      },
      "outputs": [
        {
          "output_type": "stream",
          "name": "stdout",
          "text": [
            "145 is a strong num\n"
          ]
        }
      ],
      "source": [
        "n = 145\n",
        "temp = n\n",
        "s = 0\n",
        "while n > 0:\n",
        "  rec = n % 10\n",
        "  c = 1\n",
        "  for i in range(1,rec+1):\n",
        "    c = c*i\n",
        "  s = s+c\n",
        "  n = n // 10\n",
        "if temp == s:\n",
        "  print(f'{temp} is a strong num')\n",
        "else:\n",
        "  print(f'{temp} is not a strong num')\n",
        "\n",
        "\n"
      ]
    },
    {
      "cell_type": "raw",
      "id": "6fccfd65",
      "metadata": {
        "id": "6fccfd65"
      },
      "source": [
        "7 . Write a Python program that takes input from the user and displays that input back in upper and lower cases."
      ]
    },
    {
      "cell_type": "code",
      "execution_count": null,
      "id": "9c85b4a6",
      "metadata": {
        "id": "9c85b4a6",
        "colab": {
          "base_uri": "https://localhost:8080/"
        },
        "outputId": "d5cfe1f8-8a0c-460a-f89f-f9beca5f52ff"
      },
      "outputs": [
        {
          "output_type": "stream",
          "name": "stdout",
          "text": [
            "GOUTHAM---upper_case\n",
            "goutham---lower_case\n"
          ]
        }
      ],
      "source": [
        "a = 'goutham'\n",
        "upper_case = a.upper()\n",
        "lower_case = a.lower()\n",
        "print(f'{upper_case}---upper_case')\n",
        "print(f'{lower_case}---lower_case')"
      ]
    },
    {
      "cell_type": "raw",
      "id": "8e92ebb5",
      "metadata": {
        "id": "8e92ebb5"
      },
      "source": [
        "8 . Write a Python program to remove spaces from a given string\n",
        "\n",
        "input = united states\n",
        "output = unitedstates"
      ]
    },
    {
      "cell_type": "code",
      "execution_count": null,
      "id": "5d8f2f1b",
      "metadata": {
        "id": "5d8f2f1b",
        "colab": {
          "base_uri": "https://localhost:8080/"
        },
        "outputId": "5b2f90ed-9a98-4a03-fca7-ae6c5e6d161e"
      },
      "outputs": [
        {
          "output_type": "stream",
          "name": "stdout",
          "text": [
            "unitedstates -- no space\n"
          ]
        }
      ],
      "source": [
        "input = 'united states'\n",
        "output = ''\n",
        "for char in input:\n",
        "  if char != ' ':\n",
        "    output += char\n",
        "print(f'{output} -- no space')"
      ]
    },
    {
      "cell_type": "raw",
      "id": "0b1bc8da",
      "metadata": {
        "id": "0b1bc8da"
      },
      "source": [
        "9 . Write a Python program to capitalize first and last letters of each word of a given string."
      ]
    },
    {
      "cell_type": "code",
      "execution_count": null,
      "id": "0642e4ef",
      "metadata": {
        "id": "0642e4ef",
        "colab": {
          "base_uri": "https://localhost:8080/"
        },
        "outputId": "4ff5ef97-7a5e-4f46-8d74-30e111e09a5e"
      },
      "outputs": [
        {
          "output_type": "stream",
          "name": "stdout",
          "text": [
            "Output: HellO WorlD PythoN ProgramminG\n"
          ]
        }
      ],
      "source": [
        "sentence = \"hello world python programming\"\n",
        "words = sentence.split()\n",
        "result = []\n",
        "\n",
        "for word in words:\n",
        "    if len(word) > 1:\n",
        "        new_word = word[0].upper() + word[1:-1] + word[-1].upper()\n",
        "    else:\n",
        "        new_word = word.upper()\n",
        "    result.append(new_word)\n",
        "\n",
        "output_string = ' '.join(result)\n",
        "print(\"Output:\", output_string)"
      ]
    },
    {
      "cell_type": "code",
      "source": [],
      "metadata": {
        "id": "HFRFMOo_VptW"
      },
      "id": "HFRFMOo_VptW",
      "execution_count": null,
      "outputs": []
    }
  ],
  "metadata": {
    "colab": {
      "provenance": []
    },
    "kernelspec": {
      "display_name": "Python 3 (ipykernel)",
      "language": "python",
      "name": "python3"
    },
    "language_info": {
      "codemirror_mode": {
        "name": "ipython",
        "version": 3
      },
      "file_extension": ".py",
      "mimetype": "text/x-python",
      "name": "python",
      "nbconvert_exporter": "python",
      "pygments_lexer": "ipython3",
      "version": "3.11.5"
    }
  },
  "nbformat": 4,
  "nbformat_minor": 5
}